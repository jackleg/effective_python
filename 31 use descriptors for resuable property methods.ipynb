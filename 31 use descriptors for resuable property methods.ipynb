{
 "cells": [
  {
   "cell_type": "code",
   "execution_count": 1,
   "metadata": {
    "collapsed": true
   },
   "outputs": [],
   "source": [
    "class Homework(object):\n",
    "    def __init__(self):\n",
    "        self._grade = 0\n",
    "        \n",
    "    @property\n",
    "    def grade(self):\n",
    "        return self._grade\n",
    "    \n",
    "    @grade.setter\n",
    "    def grade(self, value):\n",
    "        if not(0 <= value <= 100):\n",
    "            raise ValueError('Grade must be between 0 and 100')\n",
    "        self._grade = value"
   ]
  },
  {
   "cell_type": "code",
   "execution_count": 2,
   "metadata": {
    "collapsed": true
   },
   "outputs": [],
   "source": [
    "galileo = Homework()\n",
    "galileo.grade = 95"
   ]
  },
  {
   "cell_type": "code",
   "execution_count": 3,
   "metadata": {
    "collapsed": true
   },
   "outputs": [],
   "source": [
    "# property로 지정된 attribute들에 반복적으로 동일한 로직을 수행해야 함.\n",
    "# 비효율적.\n",
    "class Exam(object):\n",
    "    def __init__(self):\n",
    "        self._writing_grade = 0\n",
    "        self._math_grade = 0\n",
    "        \n",
    "    @staticmethod\n",
    "    def _check_grade(value):\n",
    "        if not (0 <= value <= 100):\n",
    "            raise ValueError('Grade must be between 0 and 100')\n",
    "            \n",
    "    @property\n",
    "    def writing_grade(self):\n",
    "        return self._writing_grade\n",
    "    \n",
    "    @writing_grade.setter\n",
    "    def writing_grade(self, value):\n",
    "        self._check_grade(value)\n",
    "        self._writing_grade = value\n",
    "        \n",
    "    @property\n",
    "    def math_grade(self):\n",
    "        return self._math_grade\n",
    "    \n",
    "    @math_grade.setter\n",
    "    def math_grade(self, value):\n",
    "        self._check_grade(value)\n",
    "        self._math_grade = value\n"
   ]
  },
  {
   "cell_type": "code",
   "execution_count": 5,
   "metadata": {
    "collapsed": false
   },
   "outputs": [],
   "source": [
    "# Grade를 descriptor로 구현한 모습\n",
    "class Grade(object):\n",
    "    def __init__(self):\n",
    "        self._value = 0\n",
    "        \n",
    "    def __get__(self, instance, instance_type):\n",
    "        return self._value\n",
    "    \n",
    "    def __set__(self, instance, value):\n",
    "        if not (0 <= value <= 100):\n",
    "            raise ValueError('Grade must be between 0 and 100')\n",
    "            \n",
    "        self._value = value\n",
    "        \n",
    "# descriptor로 구현한 Grade를 사용할 Exam\n",
    "class Exam(object):\n",
    "    math_grade    = Grade()\n",
    "    writing_grade = Grade()\n",
    "    science_grade = Grade()\n",
    "    \n",
    "# exam.write_grade = 40 is interpreted as:\n",
    "# Exam.__dict__['writing_grade'].__set__(exam, 40)\n",
    "# print(exam.write_grade) is interpreted as:\n",
    "# print(Exam.__dict__['writing_grade'].__get__(exam, Exam))"
   ]
  },
  {
   "cell_type": "code",
   "execution_count": 7,
   "metadata": {
    "collapsed": false
   },
   "outputs": [
    {
     "name": "stdout",
     "output_type": "stream",
     "text": [
      "Writing 82\n",
      "Science 99\n",
      "Second 75 is right\n",
      "First 75 is wrong\n"
     ]
    }
   ],
   "source": [
    "# 위의 Grade 구현은 Exam 클래스 생성시에 만들어진 Grade 객체가 공유되기 때문에\n",
    "# 아래와 같이 exam 클래스가 여러 instance인 경우 오동작할 수 있다.\n",
    "first_exam = Exam()\n",
    "first_exam.writing_grade = 82\n",
    "first_exam.science_grade = 99\n",
    "print 'Writing', first_exam.writing_grade\n",
    "print 'Science', first_exam.science_grade\n",
    "\n",
    "second_exam = Exam()\n",
    "second_exam.writing_grade = 75\n",
    "print 'Second', second_exam.writing_grade, 'is right'\n",
    "print 'First', first_exam.writing_grade, 'is wrong'"
   ]
  },
  {
   "cell_type": "code",
   "execution_count": 12,
   "metadata": {
    "collapsed": true
   },
   "outputs": [],
   "source": [
    "from weakref import WeakKeyDictionary\n",
    "\n",
    "# 그래서 instance마다 값을 따로 저장할 수 있도록 Grade를 구현해야 한다.\n",
    "# Grade를 descriptor로 구현한 모습\n",
    "class Grade(object):\n",
    "    def __init__(self):\n",
    "        # Exam instance가 모두 사라질 경우 이 dictionary에서도 사라져야 하므로 WeakKeyDictionary를 사용한다.\n",
    "        # 그렇지 않으면 Exam instance가 한번 setting되면 사라지지 않고 계속 남게 됨.\n",
    "        self._values = WeakKeyDictionary()\n",
    "        \n",
    "    def __get__(self, instance, instance_type):\n",
    "        if instance is None: return self\n",
    "        return self._values.get(instance, 0)\n",
    "    \n",
    "    def __set__(self, instance, value):\n",
    "        if not (0 <= value <= 100):\n",
    "            raise ValueError('Grade must be between 0 and 100')\n",
    "            \n",
    "        self._values[instance] = value\n",
    "        \n",
    "class Exam(object):\n",
    "    math_grade    = Grade()\n",
    "    writing_grade = Grade()\n",
    "    science_grade = Grade()"
   ]
  },
  {
   "cell_type": "code",
   "execution_count": 14,
   "metadata": {
    "collapsed": false
   },
   "outputs": [
    {
     "name": "stdout",
     "output_type": "stream",
     "text": [
      "Writing 82\n",
      "Science 99\n",
      "Second 75 is right\n",
      "First 82 is right\n"
     ]
    }
   ],
   "source": [
    "# 위의 Grade 구현은 Exam 클래스 생성시에 만들어진 Grade 객체가 공유되기 때문에\n",
    "# 아래와 같이 exam 클래스가 여러 instance인 경우 오동작할 수 있다.\n",
    "first_exam = Exam()\n",
    "first_exam.writing_grade = 82\n",
    "first_exam.science_grade = 99\n",
    "print 'Writing', first_exam.writing_grade\n",
    "print 'Science', first_exam.science_grade\n",
    "\n",
    "second_exam = Exam()\n",
    "second_exam.writing_grade = 75\n",
    "print 'Second', second_exam.writing_grade, 'is right'\n",
    "print 'First', first_exam.writing_grade, 'is right'"
   ]
  },
  {
   "cell_type": "code",
   "execution_count": null,
   "metadata": {
    "collapsed": true
   },
   "outputs": [],
   "source": []
  }
 ],
 "metadata": {
  "kernelspec": {
   "display_name": "Python 2",
   "language": "python",
   "name": "python2"
  },
  "language_info": {
   "codemirror_mode": {
    "name": "ipython",
    "version": 2
   },
   "file_extension": ".py",
   "mimetype": "text/x-python",
   "name": "python",
   "nbconvert_exporter": "python",
   "pygments_lexer": "ipython2",
   "version": "2.7.10"
  }
 },
 "nbformat": 4,
 "nbformat_minor": 0
}
