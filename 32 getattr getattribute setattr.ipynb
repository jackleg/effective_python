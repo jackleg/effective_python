{
 "cells": [
  {
   "cell_type": "code",
   "execution_count": 1,
   "metadata": {
    "collapsed": true
   },
   "outputs": [],
   "source": [
    "class LazyDB(object):\n",
    "    def __init__(self):\n",
    "        self.exists = 5\n",
    "        \n",
    "    def __getattr__(self, name):\n",
    "        value = 'Value for %s' % name\n",
    "        setattr(self, name, value)\n",
    "        return value"
   ]
  },
  {
   "cell_type": "code",
   "execution_count": 2,
   "metadata": {
    "collapsed": false
   },
   "outputs": [
    {
     "name": "stdout",
     "output_type": "stream",
     "text": [
      "Before: {'exists': 5}\n",
      "Foo: Value for foo\n",
      "After: {'foo': 'Value for foo', 'exists': 5}\n"
     ]
    }
   ],
   "source": [
    "data = LazyDB()\n",
    "print 'Before:', data.__dict__\n",
    "print 'Foo:', data.foo\n",
    "print 'After:', data.__dict__"
   ]
  },
  {
   "cell_type": "code",
   "execution_count": 3,
   "metadata": {
    "collapsed": true
   },
   "outputs": [],
   "source": [
    "class LoggingLazyDB(LazyDB):\n",
    "    def __getattr__(self, name):\n",
    "        print 'Called __getattr__(%s)' % name\n",
    "        return super(LoggingLazyDB, self).__getattr__(name)"
   ]
  },
  {
   "cell_type": "code",
   "execution_count": 4,
   "metadata": {
    "collapsed": false
   },
   "outputs": [
    {
     "name": "stdout",
     "output_type": "stream",
     "text": [
      "exists: 5\n",
      "foo: Called __getattr__(foo)\n",
      "Value for foo\n",
      "foo: Value for foo\n"
     ]
    }
   ],
   "source": [
    "data = LoggingLazyDB()\n",
    "print 'exists:', data.exists\n",
    "print 'foo:', data.foo\n",
    "print 'foo:', data.foo"
   ]
  },
  {
   "cell_type": "code",
   "execution_count": 6,
   "metadata": {
    "collapsed": true
   },
   "outputs": [],
   "source": [
    "class ValidatingDB(object):\n",
    "    def __init__(self):\n",
    "        self.exists = 5\n",
    "        \n",
    "    def __getattribute__(self, name):\n",
    "        print 'Called __getattribute__(%s)' % name\n",
    "        try:\n",
    "            return super(ValidatingDB, self).__getattribute__(name)\n",
    "        except AttributeError:\n",
    "            value = 'Value for %s' % name\n",
    "            setattr(self, name, value)\n",
    "            return value"
   ]
  },
  {
   "cell_type": "code",
   "execution_count": 7,
   "metadata": {
    "collapsed": false
   },
   "outputs": [
    {
     "name": "stdout",
     "output_type": "stream",
     "text": [
      "exists: Called __getattribute__(exists)\n",
      "5\n",
      "foo: Called __getattribute__(foo)\n",
      "Value for foo\n",
      "foo: Called __getattribute__(foo)\n",
      "Value for foo\n"
     ]
    }
   ],
   "source": [
    "data = ValidatingDB()\n",
    "print 'exists:', data.exists\n",
    "print 'foo:', data.foo\n",
    "print 'foo:', data.foo"
   ]
  },
  {
   "cell_type": "code",
   "execution_count": 9,
   "metadata": {
    "collapsed": false
   },
   "outputs": [
    {
     "name": "stdout",
     "output_type": "stream",
     "text": [
      "Before: {'exists': 5}\n",
      "foo exists: Called __getattr__(foo)\n",
      "True\n",
      "After: {'foo': 'Value for foo', 'exists': 5}\n",
      "foo exists: True\n"
     ]
    }
   ],
   "source": [
    "data = LoggingLazyDB()\n",
    "print 'Before:', data.__dict__\n",
    "print 'foo exists:', hasattr(data, 'foo')\n",
    "print 'After:', data.__dict__\n",
    "print 'foo exists:', hasattr(data, 'foo')"
   ]
  },
  {
   "cell_type": "code",
   "execution_count": 10,
   "metadata": {
    "collapsed": true
   },
   "outputs": [],
   "source": [
    "class SavingDB(object):\n",
    "    def __setattr__(self, name, value):\n",
    "        super(SavingDB, self).__setattr__(name, value)\n",
    "        \n",
    "class LoggingSavingDB(SavingDB):\n",
    "    def __setattr__(self, name, value):\n",
    "        print 'Called __setattr__(%s, %s)' % (name, value)\n",
    "        super(LoggingSavingDB, self).__setattr__(name, value)"
   ]
  },
  {
   "cell_type": "code",
   "execution_count": 11,
   "metadata": {
    "collapsed": false
   },
   "outputs": [
    {
     "name": "stdout",
     "output_type": "stream",
     "text": [
      "Before:  {}\n",
      "Called __setattr__(foo, 5)\n",
      "After: {'foo': 5}\n",
      "Called __setattr__(foo, 7)\n",
      "Finally:  {'foo': 7}\n"
     ]
    }
   ],
   "source": [
    "data = LoggingSavingDB()\n",
    "print 'Before: ', data.__dict__\n",
    "data.foo = 5\n",
    "print 'After:', data.__dict__\n",
    "data.foo = 7\n",
    "print 'Finally: ', data.__dict__"
   ]
  },
  {
   "cell_type": "code",
   "execution_count": null,
   "metadata": {
    "collapsed": true
   },
   "outputs": [],
   "source": []
  }
 ],
 "metadata": {
  "kernelspec": {
   "display_name": "Python 2",
   "language": "python",
   "name": "python2"
  },
  "language_info": {
   "codemirror_mode": {
    "name": "ipython",
    "version": 2
   },
   "file_extension": ".py",
   "mimetype": "text/x-python",
   "name": "python",
   "nbconvert_exporter": "python",
   "pygments_lexer": "ipython2",
   "version": "2.7.10"
  }
 },
 "nbformat": 4,
 "nbformat_minor": 0
}
