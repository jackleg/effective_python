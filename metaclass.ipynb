{
 "cells": [
  {
   "cell_type": "code",
   "execution_count": 3,
   "metadata": {
    "collapsed": false
   },
   "outputs": [],
   "source": [
    "class ValidationPolygon(type):\n",
    "    def __new__(meta, name, bases, class_dict):\n",
    "        #Don't validate the abstract Polygon class\n",
    "        if bases != (object, ):\n",
    "            if class_dict['sides'] < 3:\n",
    "                raise ValueError('Polygons need 3+ sides')\n",
    "        return type.__new__(meta, name, bases, class_dict)\n",
    "    \n",
    "class Polygon(object):\n",
    "    __metaclass__ = ValidationPolygon\n",
    "    \n",
    "    sides = None\n",
    "    \n",
    "    @classmethod\n",
    "    def interior_angles(cls):\n",
    "        return (cls.sides - 2) * 180\n",
    "    \n",
    "class Triangle(Polygon):\n",
    "    sides = 3"
   ]
  },
  {
   "cell_type": "code",
   "execution_count": 5,
   "metadata": {
    "collapsed": false
   },
   "outputs": [
    {
     "name": "stdout",
     "output_type": "stream",
     "text": [
      "Before class\n",
      "Before sides\n",
      "After sides\n"
     ]
    },
    {
     "ename": "ValueError",
     "evalue": "Polygons need 3+ sides",
     "output_type": "error",
     "traceback": [
      "\u001b[0;31m---------------------------------------------------------------------------\u001b[0m",
      "\u001b[0;31mValueError\u001b[0m                                Traceback (most recent call last)",
      "\u001b[0;32m<ipython-input-5-a339dd72f838>\u001b[0m in \u001b[0;36m<module>\u001b[0;34m()\u001b[0m\n\u001b[1;32m      1\u001b[0m \u001b[0;32mprint\u001b[0m \u001b[0;34m'Before class'\u001b[0m\u001b[0;34m\u001b[0m\u001b[0m\n\u001b[0;32m----> 2\u001b[0;31m \u001b[0;32mclass\u001b[0m \u001b[0mLine\u001b[0m\u001b[0;34m(\u001b[0m\u001b[0mPolygon\u001b[0m\u001b[0;34m)\u001b[0m\u001b[0;34m:\u001b[0m\u001b[0;34m\u001b[0m\u001b[0m\n\u001b[0m\u001b[1;32m      3\u001b[0m     \u001b[0;32mprint\u001b[0m \u001b[0;34m'Before sides'\u001b[0m\u001b[0;34m\u001b[0m\u001b[0m\n\u001b[1;32m      4\u001b[0m     \u001b[0msides\u001b[0m \u001b[0;34m=\u001b[0m \u001b[0;36m1\u001b[0m\u001b[0;34m\u001b[0m\u001b[0m\n\u001b[1;32m      5\u001b[0m     \u001b[0;32mprint\u001b[0m \u001b[0;34m'After sides'\u001b[0m\u001b[0;34m\u001b[0m\u001b[0m\n",
      "\u001b[0;32m<ipython-input-3-cf6bcdbf836f>\u001b[0m in \u001b[0;36m__new__\u001b[0;34m(meta, name, bases, class_dict)\u001b[0m\n\u001b[1;32m      4\u001b[0m         \u001b[0;32mif\u001b[0m \u001b[0mbases\u001b[0m \u001b[0;34m!=\u001b[0m \u001b[0;34m(\u001b[0m\u001b[0mobject\u001b[0m\u001b[0;34m,\u001b[0m \u001b[0;34m)\u001b[0m\u001b[0;34m:\u001b[0m\u001b[0;34m\u001b[0m\u001b[0m\n\u001b[1;32m      5\u001b[0m             \u001b[0;32mif\u001b[0m \u001b[0mclass_dict\u001b[0m\u001b[0;34m[\u001b[0m\u001b[0;34m'sides'\u001b[0m\u001b[0;34m]\u001b[0m \u001b[0;34m<\u001b[0m \u001b[0;36m3\u001b[0m\u001b[0;34m:\u001b[0m\u001b[0;34m\u001b[0m\u001b[0m\n\u001b[0;32m----> 6\u001b[0;31m                 \u001b[0;32mraise\u001b[0m \u001b[0mValueError\u001b[0m\u001b[0;34m(\u001b[0m\u001b[0;34m'Polygons need 3+ sides'\u001b[0m\u001b[0;34m)\u001b[0m\u001b[0;34m\u001b[0m\u001b[0m\n\u001b[0m\u001b[1;32m      7\u001b[0m         \u001b[0;32mreturn\u001b[0m \u001b[0mtype\u001b[0m\u001b[0;34m.\u001b[0m\u001b[0m__new__\u001b[0m\u001b[0;34m(\u001b[0m\u001b[0mmeta\u001b[0m\u001b[0;34m,\u001b[0m \u001b[0mname\u001b[0m\u001b[0;34m,\u001b[0m \u001b[0mbases\u001b[0m\u001b[0;34m,\u001b[0m \u001b[0mclass_dict\u001b[0m\u001b[0;34m)\u001b[0m\u001b[0;34m\u001b[0m\u001b[0m\n\u001b[1;32m      8\u001b[0m \u001b[0;34m\u001b[0m\u001b[0m\n",
      "\u001b[0;31mValueError\u001b[0m: Polygons need 3+ sides"
     ]
    }
   ],
   "source": [
    "print 'Before class'\n",
    "class Line(Polygon):\n",
    "    print 'Before sides'\n",
    "    sides = 1\n",
    "    print 'After sides'\n",
    "    \n",
    "print 'After class'"
   ]
  },
  {
   "cell_type": "code",
   "execution_count": 9,
   "metadata": {
    "collapsed": false
   },
   "outputs": [
    {
     "name": "stdout",
     "output_type": "stream",
     "text": [
      "Before: Vector3D(10, -7, 3)\n",
      "Serialized: {\"args\": [10, -7, 3], \"class\": \"Vector3D\"}\n",
      "After: Vector3D(10, -7, 3)\n"
     ]
    }
   ],
   "source": [
    "import json\n",
    "\n",
    "class BetterSerializable(object):\n",
    "    def __init__(self, *args):\n",
    "        self.args = args\n",
    "        \n",
    "    def serialize(self):\n",
    "        return json.dumps({\n",
    "                'class': self.__class__.__name__,\n",
    "                'args': self.args,\n",
    "            })\n",
    "    \n",
    "registry = {}\n",
    "\n",
    "def register_class(target_class):\n",
    "    registry[target_class.__name__] = target_class\n",
    "    \n",
    "def deserialize(data):\n",
    "    params = json.loads(data)\n",
    "    name = params['class']\n",
    "    target_class = registry[name]\n",
    "    return target_class(*params['args'])\n",
    "\n",
    "class Meta(type):\n",
    "    def __new__(meta, name, bases, class_dict):\n",
    "        cls = type.__new__(meta, name, bases, class_dict)\n",
    "        register_class(cls)\n",
    "        return cls\n",
    "    \n",
    "class RegisteredSerializable(BetterSerializable):\n",
    "    __metaclass__ = Meta\n",
    "    \n",
    "class Vector3D(RegisteredSerializable):\n",
    "    def __init__(self, x, y, z):\n",
    "        super(Vector3D, self).__init__(x, y, z)\n",
    "        self.x, self.y, self.z = x, y, z\n",
    "    \n",
    "    def __repr__(self):\n",
    "        return \"Vector3D(%d, %d, %d)\" % (self.x, self.y, self.z)\n",
    "    \n",
    "v3 = Vector3D(10, -7, 3)\n",
    "print 'Before:', v3\n",
    "data = v3.serialize()\n",
    "print 'Serialized:', data\n",
    "print 'After:', deserialize(data)"
   ]
  },
  {
   "cell_type": "code",
   "execution_count": 10,
   "metadata": {
    "collapsed": false
   },
   "outputs": [
    {
     "name": "stdout",
     "output_type": "stream",
     "text": [
      "Before: '' {}\n",
      "After: 'Euler' {'_first_name': 'Euler'}\n"
     ]
    }
   ],
   "source": [
    "class Field(object):\n",
    "    def __init__(self):\n",
    "        # these will be assigned by the metaclass.\n",
    "        self.name = None\n",
    "        self.internal_name = None\n",
    "        \n",
    "    def __get__(self, instance, instance_type):\n",
    "        if instance is None: return self\n",
    "        return getattr(instance, self.internal_name, '')\n",
    "    \n",
    "    def __set__(self, instance, value):\n",
    "        setattr(instance, self.internal_name, value)\n",
    "        \n",
    "class Meta(type):\n",
    "    def __new__(meta, name, bases, class_dict):\n",
    "        for key, value in class_dict.items():\n",
    "            if isinstance(value, Field):\n",
    "                value.name = key\n",
    "                value.internal_name = '_' + key\n",
    "        \n",
    "        cls = type.__new__(meta, name, bases, class_dict)\n",
    "        return cls\n",
    "    \n",
    "class DatabaseRow(object):\n",
    "    __metaclass__ = Meta\n",
    "    \n",
    "class BetterCustomer(DatabaseRow):\n",
    "    first_name = Field()\n",
    "    last_name = Field()\n",
    "    \n",
    "foo = BetterCustomer()\n",
    "print 'Before:', repr(foo.first_name), foo.__dict__\n",
    "foo.first_name = 'Euler'\n",
    "print 'After:', repr(foo.first_name), foo.__dict__"
   ]
  }
 ],
 "metadata": {
  "kernelspec": {
   "display_name": "Python 2",
   "language": "python",
   "name": "python2"
  },
  "language_info": {
   "codemirror_mode": {
    "name": "ipython",
    "version": 2
   },
   "file_extension": ".py",
   "mimetype": "text/x-python",
   "name": "python",
   "nbconvert_exporter": "python",
   "pygments_lexer": "ipython2",
   "version": "2.7.10"
  }
 },
 "nbformat": 4,
 "nbformat_minor": 0
}
